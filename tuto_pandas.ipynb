{
 "cells": [
  {
   "attachments": {},
   "cell_type": "markdown",
   "metadata": {},
   "source": [
    "# Manipulation de données avec pandas\n",
    "\n",
    "\n",
    "Pour avoir accès aux fonctionnalités de `pandas`, il est de coutume de charger la librairie en lui accordant l'alias `pd`. Nous allons également utiliser des fonctions de `numpy` et des outils de visualisation de ```matplotlib.pyplot```\n"
   ]
  },
  {
   "cell_type": "code",
   "execution_count": 1,
   "metadata": {},
   "outputs": [],
   "source": [
    "import pandas as pd\n",
    "import numpy as np\n",
    "import matplotlib.pyplot as plt"
   ]
  },
  {
   "attachments": {},
   "cell_type": "markdown",
   "metadata": {},
   "source": [
    "Pandas fournit essentiellement deux structures de données pour manipuler les données, ce sont les `Series` et les `Dataframe`\n",
    "\n",
    "## Les `Series`\n",
    "\n",
    "Une série est un tableau étiqueté unidimensionnel pouvant contenir tout type de données. Lors de l'affichage la (ou les)  première(s) colonne(s) contiennent les étiquettes qui représentent l'index de la série\n"
   ]
  },
  {
   "cell_type": "code",
   "execution_count": 2,
   "metadata": {},
   "outputs": [
    {
     "name": "stdout",
     "output_type": "stream",
     "text": [
      "Avec un dict, serie_club_d :\n",
      "1         Arsenal\n",
      "2     Aston Villa\n",
      "5         Chelsea\n",
      "7         Everton\n",
      "8    Leeds United\n",
      "dtype: object\n",
      "Avec index renseigné, serie_club :\n",
      "1         Arsenal\n",
      "2     Aston Villa\n",
      "5         Chelsea\n",
      "7         Everton\n",
      "8    Leeds United\n",
      "dtype: object\n",
      "Sans index renseigné\n",
      "0         Arsenal\n",
      "1     Aston Villa\n",
      "2         Chelsea\n",
      "3         Everton\n",
      "4    Leeds United\n",
      "dtype: object\n",
      "Avec une double indexation\n",
      "English Premier League  1        Arsenal\n",
      "                        2    Aston Villa\n",
      "                        3        Chelsea\n",
      "French Ligue 1          1      AS Monaco\n",
      "                        2     Angers SCO\n",
      "dtype: object\n"
     ]
    }
   ],
   "source": [
    "dict_club={1:'Arsenal',2:'Aston Villa',5:'Chelsea',7:'Everton',8:'Leeds United'}\n",
    "serie_club_d=pd.Series(dict_club)\n",
    "print(f'Avec un dict, serie_club_d :\\n{serie_club_d}')\n",
    "\n",
    "serie_club=pd.Series(['Arsenal','Aston Villa','Chelsea','Everton','Leeds United'],index=[1,2,5,7,8])\n",
    "print(f'Avec index renseigné, serie_club :\\n{serie_club}')\n",
    "\n",
    "#Sans index renseigné, une indexation est définie par défaut\n",
    "serie_club2=pd.Series(['Arsenal','Aston Villa','Chelsea','Everton','Leeds United'])\n",
    "print(f'Sans index renseigné\\n{serie_club2}')\n",
    "\n",
    "#Avec une double indexation \n",
    "serie_club_3=pd.Series(['Arsenal','Aston Villa','Chelsea','AS Monaco','Angers SCO'],index=[['English Premier League']*3+['French Ligue 1']*2,[1,2,3,1,2]])\n",
    "print(f'Avec une double indexation\\n{serie_club_3}')"
   ]
  },
  {
   "attachments": {},
   "cell_type": "markdown",
   "metadata": {},
   "source": [
    "Si on veut ajouter des noms à la série ou à l'index :"
   ]
  },
  {
   "cell_type": "code",
   "execution_count": 3,
   "metadata": {},
   "outputs": [
    {
     "name": "stdout",
     "output_type": "stream",
     "text": [
      "Id_club\n",
      "1         Arsenal\n",
      "2     Aston Villa\n",
      "5         Chelsea\n",
      "7         Everton\n",
      "8    Leeds United\n",
      "Name: Nom club, dtype: object\n"
     ]
    }
   ],
   "source": [
    "serie_club.name='Nom club'\n",
    "serie_club.index.name='Id_club'\n",
    "print(serie_club)"
   ]
  },
  {
   "attachments": {},
   "cell_type": "markdown",
   "metadata": {},
   "source": [
    "Si on veut récupérer l'ensemble des valeurs de la série ou de l'index :"
   ]
  },
  {
   "cell_type": "code",
   "execution_count": 4,
   "metadata": {},
   "outputs": [
    {
     "name": "stdout",
     "output_type": "stream",
     "text": [
      "['Arsenal' 'Aston Villa' 'Chelsea' 'Everton' 'Leeds United']\n",
      "<class 'numpy.ndarray'>\n",
      "[1 2 5 7 8]\n"
     ]
    }
   ],
   "source": [
    "print(serie_club.values)\n",
    "print(type(serie_club.values))\n",
    "print(serie_club.index.values)"
   ]
  },
  {
   "attachments": {},
   "cell_type": "markdown",
   "metadata": {},
   "source": [
    "Pour interroger les valeurs stockées dans un objet `Series` on peut fonctionner de différentes manières. La méthode `iloc` fournit une méthode de sélection selon la position de l'élément voulu alors que `loc` exploite la valeur de l'index. L'opérateur d'indexation `[]` aplliqué directement à un objet `Series` peut être également utilisé mais il faut être conscient de son comportement qui correspond soit à celui de `loc` soit à celui de `iloc` selon la valeur passée. Lorsque les deux traitements sont possibles le comportement adopté est celui de la méthode `loc`"
   ]
  },
  {
   "cell_type": "code",
   "execution_count": 5,
   "metadata": {},
   "outputs": [
    {
     "name": "stdout",
     "output_type": "stream",
     "text": [
      "Id_club\n",
      "1         Arsenal\n",
      "2     Aston Villa\n",
      "5         Chelsea\n",
      "7         Everton\n",
      "8    Leeds United\n",
      "Name: Nom club, dtype: object\n",
      "serie_club.loc[1] :  Arsenal\n",
      "serie_club[1] :  Arsenal\n",
      "serie_club[[1,7]] :\n",
      "Id_club\n",
      "1    Arsenal\n",
      "7    Everton\n",
      "Name: Nom club, dtype: object\n",
      "serie_club.iloc[1] : Aston Villa\n",
      "serie_club.iloc[0:3] :\n",
      "Id_club\n",
      "1        Arsenal\n",
      "2    Aston Villa\n",
      "5        Chelsea\n",
      "Name: Nom club, dtype: object\n",
      "serie_club[1:] :\n",
      "Id_club\n",
      "2     Aston Villa\n",
      "5         Chelsea\n",
      "7         Everton\n",
      "8    Leeds United\n",
      "Name: Nom club, dtype: object\n"
     ]
    }
   ],
   "source": [
    "print(serie_club)\n",
    "print('serie_club.loc[1] : ',serie_club.loc[1])\n",
    "print('serie_club[1] : ',serie_club[1])\n",
    "print(f'serie_club[[1,7]] :\\n{serie_club[[1,7]]}')\n",
    "print(f'serie_club.iloc[1] : {serie_club.iloc[1]}')\n",
    "print(f'serie_club.iloc[0:3] :\\n{serie_club.iloc[0:3]}')\n",
    "print(f'serie_club[1:] :\\n{serie_club[1:]}')"
   ]
  },
  {
   "attachments": {},
   "cell_type": "markdown",
   "metadata": {},
   "source": [
    "## Les `Dataframe`\n",
    "La `Dataframe` est une structure qui organise les données en lignes et en colonnes. On peut aussi se la représenter comme un dictionnaire d'objets `Series`. C'est l'objet `pandas` le plus utilisé."
   ]
  },
  {
   "cell_type": "code",
   "execution_count": 6,
   "metadata": {},
   "outputs": [
    {
     "name": "stdout",
     "output_type": "stream",
     "text": [
      "   Player_name Nationality  Player_club_id  Age   ValueEUR\n",
      "0     L. Messi   Argentina              73   33  103500000\n",
      "1    P. Dybala   Argentina              45   26   95000000\n",
      "2  E. Martinez   Argentina               2   27   33000000\n",
      "3  G. Lo Celso   Argentina              18   24   38500000\n",
      "4   N.Otamendi   Argentina             234   32   13500000\n",
      "5    K. Mbappé      France              73   21  185500000\n",
      "6  J. Veretout      France              52   27   26500000\n",
      "7    H. Lloris      France              18   33   26000000 \n",
      "\n",
      "  Player_name Nationality  Player_club_id  Age   ValueEUR\n",
      "0    L. Messi   Argentina              73   33  103500000\n",
      "1   P. Dybala   Argentina              45   26   95000000 \n",
      "\n",
      "   Player_name Nationality  Player_club_id  Age   ValueEUR\n",
      "5    K. Mbappé      France              73   21  185500000\n",
      "0     L. Messi   Argentina              73   33  103500000\n",
      "1    P. Dybala   Argentina              45   26   95000000\n",
      "3  G. Lo Celso   Argentina              18   24   38500000\n",
      "2  E. Martinez   Argentina               2   27   33000000\n",
      "6  J. Veretout      France              52   27   26500000\n",
      "7    H. Lloris      France              18   33   26000000\n",
      "4   N.Otamendi   Argentina             234   32   13500000\n"
     ]
    }
   ],
   "source": [
    "dico_players={\n",
    "    \"Player_name\" : pd.Series(['L. Messi','P. Dybala','E. Martinez','G. Lo Celso','N.Otamendi','K. Mbappé','J. Veretout','H. Lloris']),\n",
    "    \"Nationality\" : pd.Series(['Argentina']*5+['France']*3),\n",
    "    \"Player_club_id\" : pd.Series([73,45,2,18,234,73,52,18]),\n",
    "    \"Age\" : pd.Series([33,26,27,24,32,21,27,33]),\n",
    "    \"ValueEUR\" : pd.Series([103500000,95000000,33000000,38500000,13500000,185500000,26500000,26000000])\n",
    "}\n",
    "data_players=pd.DataFrame(dico_players)\n",
    "print(data_players,'\\n')\n",
    "print(data_players[:2],'\\n')\n",
    "print(data_players.sort_values(['ValueEUR'],ascending=False))\n"
   ]
  },
  {
   "attachments": {},
   "cell_type": "markdown",
   "metadata": {},
   "source": [
    "On peut avoir le souhait de remplacer les valeurs d'une colonne (ici les âges des joueurs sont ceux de 2021, on va leur rajouter 2 années) ou de rajouter une colonne avec un calcul effectué"
   ]
  },
  {
   "cell_type": "code",
   "execution_count": 7,
   "metadata": {},
   "outputs": [
    {
     "name": "stdout",
     "output_type": "stream",
     "text": [
      "   Player_name Nationality  Player_club_id  Age   ValueEUR  \\\n",
      "0     L. Messi   Argentina              73   35  103500000   \n",
      "1    P. Dybala   Argentina              45   28   95000000   \n",
      "2  E. Martinez   Argentina               2   29   33000000   \n",
      "3  G. Lo Celso   Argentina              18   26   38500000   \n",
      "4   N.Otamendi   Argentina             234   34   13500000   \n",
      "5    K. Mbappé      France              73   23  185500000   \n",
      "6  J. Veretout      France              52   29   26500000   \n",
      "7    H. Lloris      France              18   35   26000000   \n",
      "\n",
      "   Valeur par année avant retraite  \n",
      "0                     1.478571e+07  \n",
      "1                     6.785714e+06  \n",
      "2                     2.538462e+06  \n",
      "3                     2.406250e+06  \n",
      "4                     1.687500e+06  \n",
      "5                     9.763158e+06  \n",
      "6                     2.038462e+06  \n",
      "7                     3.714286e+06  \n"
     ]
    }
   ],
   "source": [
    "new_df=data_players.copy()\n",
    "new_df['Valeur par année avant retraite']=new_df['ValueEUR']/(40-new_df['Age'])\n",
    "#print(new_df.loc[:2,'Age'])\n",
    "new_df.loc[new_df.Age>0,'Age']=new_df.Age+2\n",
    "print(new_df)"
   ]
  },
  {
   "attachments": {},
   "cell_type": "markdown",
   "metadata": {},
   "source": [
    "On peut avoir recours à l'utilisation de certaines méthodes (ci-dessous l'affichage de statistiques diverses ou encore le remplacement de l'indexation effectuée par défaut), ou certains attributs comme des noms ou les dimensions de la structure créée"
   ]
  },
  {
   "cell_type": "code",
   "execution_count": 8,
   "metadata": {},
   "outputs": [
    {
     "name": "stdout",
     "output_type": "stream",
     "text": [
      "count     8.000000\n",
      "mean     27.875000\n",
      "std       4.421942\n",
      "min      21.000000\n",
      "25%      25.500000\n",
      "50%      27.000000\n",
      "75%      32.250000\n",
      "max      33.000000\n",
      "Name: Age, dtype: float64\n",
      "[None]  ou  None\n",
      "(8, 5)\n",
      "   Player_name Nationality  Player_club_id  Age   ValueEUR\n",
      "0     L. Messi   Argentina              73   33  103500000\n",
      "1    P. Dybala   Argentina              45   26   95000000\n",
      "2  E. Martinez   Argentina               2   27   33000000\n",
      "3  G. Lo Celso   Argentina              18   24   38500000\n",
      "4   N.Otamendi   Argentina             234   32   13500000\n",
      "5    K. Mbappé      France              73   21  185500000\n",
      "6  J. Veretout      France              52   27   26500000\n",
      "7    H. Lloris      France              18   33   26000000\n"
     ]
    }
   ],
   "source": [
    "print(data_players['Age'].describe())\n",
    "data_players.set_index([pd.Series([158023,211110,202811,226226,192366,231747,201519,167948],name='Player_ID')],inplace=True)\n",
    "#et si on veut revenir sur ce dernier choix :\n",
    "data_players.reset_index(inplace=True,drop=True)\n",
    "print(data_players.index.names,' ou ',data_players.index.name)\n",
    "print(data_players.shape)\n",
    "print(data_players)"
   ]
  },
  {
   "attachments": {},
   "cell_type": "markdown",
   "metadata": {},
   "source": [
    "Il peut être particulièrement pratique d'utiliser un masque pour ne sélectionner que certaines données selon un ou plusieurs critères"
   ]
  },
  {
   "cell_type": "code",
   "execution_count": 9,
   "metadata": {},
   "outputs": [
    {
     "name": "stdout",
     "output_type": "stream",
     "text": [
      "  Nationality  Age\n",
      "0   Argentina   33\n",
      "4   Argentina   32\n",
      "   Player_name Nationality  Player_club_id  Age   ValueEUR\n",
      "1    P. Dybala   Argentina              45   26   95000000\n",
      "2  E. Martinez   Argentina               2   27   33000000\n",
      "3  G. Lo Celso   Argentina              18   24   38500000\n",
      "5    K. Mbappé      France              73   21  185500000\n",
      "6  J. Veretout      France              52   27   26500000\n",
      "7    H. Lloris      France              18   33   26000000\n"
     ]
    }
   ],
   "source": [
    "mask_selection_1=(data_players['Nationality']=='Argentina')&(data_players['Age']>=30) #Vous avez essayé avec and ?\n",
    "mask_selection_2=(data_players.Nationality=='France')|(data_players['Age']<30)\n",
    "selection_1=data_players[mask_selection_1][['Nationality','Age']]\n",
    "selection_2=data_players[mask_selection_2]\n",
    "print(selection_1)\n",
    "print(selection_2)\n"
   ]
  },
  {
   "attachments": {},
   "cell_type": "markdown",
   "metadata": {},
   "source": [
    "Si on veut fusionner deux sources de données déjà structurées en `dataframe` en une seule on peut le faire avec la méthode de concaténation"
   ]
  },
  {
   "cell_type": "code",
   "execution_count": 10,
   "metadata": {},
   "outputs": [
    {
     "name": "stdout",
     "output_type": "stream",
     "text": [
      "  Nationality  Age  Player_name  Player_club_id     ValueEUR\n",
      "0   Argentina   33          NaN             NaN          NaN\n",
      "4   Argentina   32          NaN             NaN          NaN\n",
      "1   Argentina   26    P. Dybala            45.0   95000000.0\n",
      "2   Argentina   27  E. Martinez             2.0   33000000.0\n",
      "3   Argentina   24  G. Lo Celso            18.0   38500000.0\n",
      "5      France   21    K. Mbappé            73.0  185500000.0\n",
      "6      France   27  J. Veretout            52.0   26500000.0\n",
      "7      France   33    H. Lloris            18.0   26000000.0\n"
     ]
    }
   ],
   "source": [
    "selection=pd.concat([selection_1,selection_2])\n",
    "print(selection)"
   ]
  },
  {
   "attachments": {},
   "cell_type": "markdown",
   "metadata": {},
   "source": [
    "On peut éventuellement avoir le souhait de traiter les valeurs manquantes de différentes manières. Voici quelques exemples"
   ]
  },
  {
   "cell_type": "code",
   "execution_count": 11,
   "metadata": {},
   "outputs": [
    {
     "name": "stdout",
     "output_type": "stream",
     "text": [
      "  Nationality  Age Player_name  Player_club_id  ValueEUR\n",
      "0   Argentina   33         NaN             NaN       NaN\n",
      "4   Argentina   32         NaN             NaN       NaN \n",
      "\n",
      "  Nationality  Age  Player_name  Player_club_id     ValueEUR\n",
      "1   Argentina   26    P. Dybala            45.0   95000000.0\n",
      "2   Argentina   27  E. Martinez             2.0   33000000.0\n",
      "3   Argentina   24  G. Lo Celso            18.0   38500000.0\n",
      "5      France   21    K. Mbappé            73.0  185500000.0\n",
      "6      France   27  J. Veretout            52.0   26500000.0\n",
      "7      France   33    H. Lloris            18.0   26000000.0 \n",
      "\n",
      "  Nationality  Age  Player_name  Player_club_id     ValueEUR\n",
      "1   Argentina   26    P. Dybala            45.0   95000000.0\n",
      "2   Argentina   27  E. Martinez             2.0   33000000.0\n",
      "3   Argentina   24  G. Lo Celso            18.0   38500000.0\n",
      "5      France   21    K. Mbappé            73.0  185500000.0\n",
      "6      France   27  J. Veretout            52.0   26500000.0\n",
      "7      France   33    H. Lloris            18.0   26000000.0 \n",
      "\n",
      "  Nationality  Age          Player_name  Player_club_id     ValueEUR\n",
      "0   Argentina   33  Footballeur inconnu             NaN          0.0\n",
      "4   Argentina   32  Footballeur inconnu             NaN          0.0\n",
      "1   Argentina   26            P. Dybala            45.0   95000000.0\n",
      "2   Argentina   27          E. Martinez             2.0   33000000.0\n",
      "3   Argentina   24          G. Lo Celso            18.0   38500000.0\n",
      "5      France   21            K. Mbappé            73.0  185500000.0\n",
      "6      France   27          J. Veretout            52.0   26500000.0\n",
      "7      France   33            H. Lloris            18.0   26000000.0\n"
     ]
    }
   ],
   "source": [
    "print(selection[selection['Player_name'].isnull()],'\\n')\n",
    "print(selection[selection['Player_name'].notnull()],'\\n')\n",
    "print(selection.dropna(inplace=False),'\\n')\n",
    "print(selection.fillna(value={'Player_name':'Footballeur inconnu','ValueEUR':0}))"
   ]
  },
  {
   "attachments": {},
   "cell_type": "markdown",
   "metadata": {},
   "source": [
    "### Les jointures\n",
    "Pour avoir des jointures plus élaborées pour rassembler différentes sources de données on utilise la fonction `merge()`\n",
    "La fonction nécessite de préciser la table de gauche (que l'on appellera ici `x`) via le paramètre `left` et une table de droite (que l'on appellera ici `y`) via le paramètre `right`.\n",
    "Les types de jointure sont les suivants (on le spécifie dans la fonction avec le paramètre `how`) :\n",
    "\n",
    "* `left` : toutes les lignes de `x` et toutes les colonnes des deux tables (avec une correspondance entre tables établie sur les colonnes respectivement mentionnées dans `left_on` et `right_on`). Les lignes de `x` pour lesquelles il n'y a pas de correspondance dans `y` auront des valeurs `NaN` dans les colonnes associées initialement à `y`. S'il y a plusieurs correspondances toutes les combinaisons possibles sont retournées.\n",
    "\n",
    "* `inner` : toutes les lignes de `x` pour lesquelles il y a des valeurs correspondantes dans `y`, et toutes les colonnes de `x` et `y`. S'il y a plusieurs correspondances toutes les combinaisons possibles sont retournées.\n",
    "\n",
    "* `outer` : toutes les lignes de `x` et de `y` et toutes les colonnes de `x` et de `y`. Les lignes de `x` pour lesquelles il n'y a pas de correspondance dans `y` auront des valeurs `NaN` dans les colonnes associées initialement à `y` et les lignes de `y` pour lesquelles il n'y a pas de correspondance dans `x` auront des valeurs `NaN` dans les colonnes associées initialement à `x`"
   ]
  },
  {
   "cell_type": "code",
   "execution_count": 19,
   "metadata": {},
   "outputs": [
    {
     "name": "stdout",
     "output_type": "stream",
     "text": [
      "left :\n",
      "           Club_name  Player_name\n",
      "0        Aston Villa  E. Martinez\n",
      "1            Chelsea          NaN\n",
      "2  Tottenham Hotspur  G. Lo Celso\n",
      "3  Tottenham Hotspur    H. Lloris\n",
      "\n",
      "inner :\n",
      "           Club_name  Player_name\n",
      "0        Aston Villa  E. Martinez\n",
      "1  Tottenham Hotspur  G. Lo Celso\n",
      "2  Tottenham Hotspur    H. Lloris\n",
      "\n",
      "outer :\n",
      "           Club_name  Player_name\n",
      "0        Aston Villa  E. Martinez\n",
      "1            Chelsea          NaN\n",
      "2  Tottenham Hotspur  G. Lo Celso\n",
      "3  Tottenham Hotspur    H. Lloris\n",
      "4                NaN     L. Messi\n",
      "5                NaN    K. Mbappé\n",
      "6                NaN    P. Dybala\n",
      "7                NaN   N.Otamendi\n",
      "8                NaN  J. Veretout\n"
     ]
    }
   ],
   "source": [
    "dico_clubs={\n",
    "    'Club_id':[2,5,18,45,52,71,73,234],\n",
    "    'Club_name':['Aston Villa','Chelsea','Tottenham Hotspur','Juventus','Roma','FC Nantes','Paris Saint-Germain','SL Benfica'],\n",
    "    'League':['English Premier League']*3+['Italian Serie A']*2+['French Ligue 1']*2+['Portuguese Liga']\n",
    "}\n",
    "data_clubs=pd.DataFrame(dico_clubs)\n",
    "data_clubs_anglais=data_clubs[(data_clubs.League=='English Premier League')]\n",
    "\n",
    "qui_qui_joue_dans_ces_clubs=pd.merge(left=data_clubs_anglais,right=data_players,how='left',left_on=['Club_id'],right_on=['Player_club_id'])\n",
    "print(f\"left :\\n{qui_qui_joue_dans_ces_clubs[['Club_name','Player_name']]}\\n\")\n",
    "\n",
    "qui_qui_joue_dans_ces_clubs_2=pd.merge(left=data_clubs_anglais,right=data_players,how='inner',left_on=['Club_id'],right_on=['Player_club_id'])\n",
    "print(f\"inner :\\n{qui_qui_joue_dans_ces_clubs_2[['Club_name','Player_name']]}\\n\")\n",
    "\n",
    "qui_qui_joue_dans_ces_clubs_3=pd.merge(left=data_clubs_anglais,right=data_players,how='outer',left_on=['Club_id'],right_on=['Player_club_id'])\n",
    "print(f\"outer :\\n{qui_qui_joue_dans_ces_clubs_3[['Club_name','Player_name']]}\")"
   ]
  },
  {
   "attachments": {},
   "cell_type": "markdown",
   "metadata": {},
   "source": [
    "Pour effectuer des calculs d'agrégats (avec des fonction d'agrégation `sum`, `mean`, `count`, `median`, ...) sur certaines colonnes on peut utiliser la méthode `groupby` qui permet d'expliciter des critères sur une ou plusieurs colonnes qui seront utilisées comme index dans la dataframe renvoyée. Si on veut pouvoir appliquer différentes fonctions d'agrégation selon les colonnes on utilise la méthode `agg`. \n",
    "\n",
    "Remarque : la méthode `groupby` s'appliquant aux colonnes de la dataframe, si on souhaite grouper selon les valeurs de l'index on devra effectuer d'abord un `reset_index` pour replacer ses valeurs en colonne."
   ]
  },
  {
   "cell_type": "code",
   "execution_count": 27,
   "metadata": {},
   "outputs": [
    {
     "name": "stdout",
     "output_type": "stream",
     "text": [
      "joueurs_par_clubs :\n",
      "             Club_name  Player_name                  League  Age   ValueEUR\n",
      "0          Aston Villa  E. Martinez  English Premier League   27   33000000\n",
      "1    Tottenham Hotspur  G. Lo Celso  English Premier League   24   38500000\n",
      "2    Tottenham Hotspur    H. Lloris  English Premier League   33   26000000\n",
      "3             Juventus    P. Dybala         Italian Serie A   26   95000000\n",
      "4                 Roma  J. Veretout         Italian Serie A   27   26500000\n",
      "5  Paris Saint-Germain     L. Messi          French Ligue 1   33  103500000\n",
      "6  Paris Saint-Germain    K. Mbappé          French Ligue 1   21  185500000\n",
      "7           SL Benfica   N.Otamendi         Portuguese Liga   32   13500000\n",
      "\n",
      "Calculs âge et valeur moyenne par league :\n",
      "                         Age     ValueEUR\n",
      "League                                   \n",
      "English Premier League  28.0   32500000.0\n",
      "French Ligue 1          27.0  144500000.0\n",
      "Italian Serie A         26.5   60750000.0\n",
      "Portuguese Liga         32.0   13500000.0\n",
      "\n",
      "Calculs divers par league :\n",
      "                         Age   ValueEUR           \n",
      "                        mean       mean        sum\n",
      "League                                            \n",
      "English Premier League  28.0   32500000   97500000\n",
      "French Ligue 1          27.0  144500000  289000000\n",
      "Italian Serie A         26.5   60750000  121500000\n",
      "Portuguese Liga         32.0   13500000   13500000\n",
      "\n"
     ]
    }
   ],
   "source": [
    "joueurs_par_clubs=pd.merge(left=data_clubs,right=data_players,how='inner',left_on=['Club_id'],right_on=['Player_club_id'])[['Club_name','Player_name','League','Age','ValueEUR']]\n",
    "print(f\"joueurs_par_clubs :\\n{joueurs_par_clubs}\\n\")\n",
    "calculs_moyennes_par_league=joueurs_par_clubs.groupby(['League'])[['Age','ValueEUR']].mean()\n",
    "print(f'Calculs âge et valeur moyenne par league :\\n{calculs_moyennes_par_league}\\n')\n",
    "calculs_divers_par_league=joueurs_par_clubs.groupby(['League']).agg({'Age':['mean'],'ValueEUR':['mean','sum']})\n",
    "print(f'Calculs divers par league :\\n{calculs_divers_par_league}\\n')"
   ]
  },
  {
   "attachments": {},
   "cell_type": "markdown",
   "metadata": {},
   "source": [
    "## Importer des données\n",
    "\n",
    "Pour importer des données depuis un fichier CSV, `pandas` propose la fonction `read_csv`. Parmi les paramètres que l'on peut utiliser on citera :\n",
    "\n",
    "* `sep` : séparateur de champs (par défaut la virgule)\n",
    "* `index_col` : numéro(s) de colonne(s) à utiliser pour l'index (par défaut `None`)\n",
    "* `decimal` : caractère représentant le passage aux décimales (par défaut `.`)\n",
    "* `encoding` : encodage des caractères (par défaut `utf-8`)"
   ]
  },
  {
   "cell_type": "code",
   "execution_count": 33,
   "metadata": {},
   "outputs": [
    {
     "name": "stdout",
     "output_type": "stream",
     "text": [
      "['ID', 'Name', 'FullName', 'Age', 'Height', 'Weight', 'PhotoUrl', 'Nationality', 'Overall', 'Potential', 'Growth', 'TotalStats', 'BaseStats', 'Positions', 'BestPosition', 'Club_id', 'ValueEUR', 'WageEUR', 'ReleaseClause', 'ClubPosition', 'ContractUntil', 'ClubNumber', 'ClubJoined', 'OnLoad', 'NationalTeam', 'NationalPosition', 'NationalNumber', 'PreferredFoot', 'IntReputation', 'WeakFoot', 'SkillMoves', 'AttackingWorkRate', 'DefensiveWorkRate', 'PaceTotal', 'ShootingTotal', 'PassingTotal', 'DribblingTotal', 'DefendingTotal', 'PhysicalityTotal', 'Crossing', 'Finishing', 'HeadingAccuracy', 'ShortPassing', 'Volleys', 'Dribbling', 'Curve', 'FKAccuracy', 'LongPassing', 'BallControl', 'Acceleration', 'SprintSpeed', 'Agility', 'Reactions', 'Balance', 'ShotPower', 'Jumping', 'Stamina', 'Strength', 'LongShots', 'Aggression', 'Interceptions', 'Positioning', 'Vision', 'Penalties', 'Composure', 'Marking', 'StandingTackle', 'SlidingTackle', 'GKDiving', 'GKHandling', 'GKKicking', 'GKPositioning', 'GKReflexes', 'STRating', 'LWRating', 'LFRating', 'CFRating', 'RFRating', 'RWRating', 'CAMRating', 'LMRating', 'CMRating', 'RMRating', 'LWBRating', 'CDMRating', 'RWBRating', 'LBRating', 'CBRating', 'RBRating', 'GKRating']\n",
      "       ID               Name                      FullName  Age  Height\n",
      "0  158023           L. Messi                  Lionel Messi   33     170\n",
      "1   20801  Cristiano Ronaldo  C. Ronaldo dos Santos Aveiro   35     187\n",
      "2  188545     R. Lewandowski            Robert Lewandowski   31     185\n",
      "3  190871          Neymar Jr    Neymar da Silva Santos Jr.   28     175\n",
      "4  192985       K. De Bruyne               Kevin De Bruyne   29     181 \n",
      "\n",
      "     ID                    Name                      League\n",
      "0     1                 Arsenal  English Premier League (1)\n",
      "1     2             Aston Villa  English Premier League (1)\n",
      "2  1808  Brighton & Hove Albion  English Premier League (1)\n",
      "3  1796                 Burnley  English Premier League (1)\n",
      "4     5                 Chelsea  English Premier League (1)\n"
     ]
    }
   ],
   "source": [
    "data_joueurs = pd.read_csv('donnees_fifa/players.csv',sep=';')\n",
    "data_equipes=pd.read_csv('donnees_fifa/teams.csv',sep=';')\n",
    "print(list(data_joueurs.columns))\n",
    "print(data_joueurs[data_joueurs.columns[:5]].head(5),'\\n')\n",
    "print(data_equipes[data_equipes.columns[:3]].head(5))"
   ]
  },
  {
   "attachments": {},
   "cell_type": "markdown",
   "metadata": {},
   "source": [
    "**Question 1** : Afficher le tableau présentant l'âge moyen et les moyennes, médianes et valeurs maximales pour les revenus (`WageEUR`) à l'intérieur de chaque club de ligue 1 en France."
   ]
  },
  {
   "cell_type": "code",
   "execution_count": 65,
   "metadata": {},
   "outputs": [
    {
     "name": "stdout",
     "output_type": "stream",
     "text": [
      "                                Age       WageEUR         \n",
      "                               mean          mean      sum\n",
      "Name_y                                                    \n",
      "AS Monaco                 23.142857  31892.857143   893000\n",
      "AS Saint-Ã‰tienne         23.156250  13829.687500   442550\n",
      "Angers SCO                25.090909  13056.060606   430850\n",
      "Dijon FCO                 23.620690   9072.413793   263100\n",
      "FC Girondins de Bordeaux  24.807692  19269.230769   501000\n",
      "FC Lorient                25.966667  13433.333333   403000\n",
      "FC Metz                   23.100000   8133.333333   244000\n",
      "FC Nantes                 23.969697  12090.909091   399000\n",
      "LOSC Lille                22.633333  20543.333333   616300\n",
      "Montpellier HSC           23.928571  16964.285714   475000\n",
      "NÃ®mes Olympique          23.843750   9953.125000   318500\n",
      "OGC Nice                  22.296296  21925.925926   592000\n",
      "Olympique Lyonnais        22.892857  36035.714286  1009000\n",
      "Olympique de Marseille    23.375000  21934.375000   701900\n",
      "Paris Saint-Germain       24.843750  80070.312500  2562250\n",
      "RC Strasbourg Alsace      24.931034  17586.206897   510000\n",
      "Racing Club de Lens       23.645161  16580.645161   514000\n",
      "Stade Brestois 29         24.206897  10724.137931   311000\n",
      "Stade Rennais FC          23.115385  24030.769231   624800\n",
      "Stade de Reims            22.172414  11379.310345   330000\n"
     ]
    }
   ],
   "source": [
    "\n",
    "joueurs_avec_clubs=pd.merge(left=data_joueurs,right=data_equipes,how='inner',left_on=['Club_id'],right_on=['ID'])\n",
    "\n",
    "joueurs_ligue_1 =joueurs_avec_clubs[joueurs_avec_clubs.League == \"French Ligue 1 (1)\"]\n",
    "calculs_moyennes_par_club=(joueurs_ligue_1[['Name_y','Age','WageEUR']].groupby(['Name_y'])).agg({'Age':['mean'],'WageEUR':['mean','sum']})\n",
    "\n",
    "print(calculs_moyennes_par_club)"
   ]
  },
  {
   "attachments": {},
   "cell_type": "markdown",
   "metadata": {},
   "source": [
    "**Question 2** : Comparer avec des diagrammes en boîtes à moustaches (`plt.boxplot`) les salaires de ligue 1 et de ligue 2."
   ]
  },
  {
   "cell_type": "code",
   "execution_count": 75,
   "metadata": {},
   "outputs": [
    {
     "data": {
      "text/plain": [
       "{'whiskers': [<matplotlib.lines.Line2D at 0x7f6a22c21850>,\n",
       "  <matplotlib.lines.Line2D at 0x7f6a22c21bb0>,\n",
       "  <matplotlib.lines.Line2D at 0x7f6a22c29cd0>,\n",
       "  <matplotlib.lines.Line2D at 0x7f6a22c340a0>],\n",
       " 'caps': [<matplotlib.lines.Line2D at 0x7f6a22c21f10>,\n",
       "  <matplotlib.lines.Line2D at 0x7f6a22c292b0>,\n",
       "  <matplotlib.lines.Line2D at 0x7f6a22c34400>,\n",
       "  <matplotlib.lines.Line2D at 0x7f6a22c34760>],\n",
       " 'boxes': [<matplotlib.lines.Line2D at 0x7f6a22c214f0>,\n",
       "  <matplotlib.lines.Line2D at 0x7f6a22c29970>],\n",
       " 'medians': [<matplotlib.lines.Line2D at 0x7f6a22c29610>,\n",
       "  <matplotlib.lines.Line2D at 0x7f6a22c34ac0>],\n",
       " 'fliers': [],\n",
       " 'means': []}"
      ]
     },
     "execution_count": 75,
     "metadata": {},
     "output_type": "execute_result"
    },
    {
     "data": {
      "image/png": "[encoded data removed]",
      "text/plain": [
       "<Figure size 640x480 with 1 Axes>"
      ]
     },
     "metadata": {},
     "output_type": "display_data"
    }
   ],
   "source": [
    "joueurs_ligue_2 =joueurs_avec_clubs[joueurs_avec_clubs.League == \"French Ligue 2 (2)\"]\n",
    "\n",
    "#joueurs_ligue_1et2 = pd.concat([joueurs_ligue_1,joueurs_ligue_2])\n",
    "plt.boxplot([joueurs_ligue_1['WageEUR'], joueurs_ligue_2['WageEUR']],labels=[\"Ligue1\", \"Ligue2\"], showfliers=False)"
   ]
  },
  {
   "attachments": {},
   "cell_type": "markdown",
   "metadata": {},
   "source": [
    "**Question 3** : Afficher un diagramme en barres représentant l'évaluation des compétences en dribble, accélération, agilité et vision de jeu (`Dribbling`, `Acceleration`, `Agility`, `Vision`) pour un joueur dont on spécifie l'identifiant `ID`."
   ]
  },
  {
   "cell_type": "code",
   "execution_count": 91,
   "metadata": {},
   "outputs": [
    {
     "name": "stdout",
     "output_type": "stream",
     "text": [
      "          Name  Dribbling  Acceleration  Agility  Vision\n",
      "26  T. MÃ¼ller         76            68       74      85\n"
     ]
    },
    {
     "data": {
      "text/plain": [
       "<function matplotlib.pyplot.show(close=None, block=None)>"
      ]
     },
     "execution_count": 91,
     "metadata": {},
     "output_type": "execute_result"
    },
    {
     "data": {
      "image/png": "[encoded data removed]",
      "text/plain": [
       "<Figure size 640x480 with 1 Axes>"
      ]
     },
     "metadata": {},
     "output_type": "display_data"
    }
   ],
   "source": [
    "id = input(\"Entrer un id :\")\n",
    "joueur = data_joueurs.loc[data_joueurs['ID'] == int(id)]\n",
    "joueur = joueur[[\"Name\",\"Dribbling\", \"Acceleration\", \"Agility\", \"Vision\"]]\n",
    "print(joueur)\n",
    "plt.bar([\"Dribbling\", \"Acceleration\", \"Agility\", \"Vision\"],joueur.iloc[0,1:5])\n",
    "plt.title(joueur.iloc[0,0])\n",
    "plt.show"
   ]
  },
  {
   "attachments": {},
   "cell_type": "markdown",
   "metadata": {},
   "source": [
    "**Question 4** : Représenter la distribution des salaires parmi les joueurs appartenant à des équipes ayant un budget de transfert supérieur ou égal à 50 millions (représentation par intervalles de 50000 euros d'amplitude)."
   ]
  },
  {
   "cell_type": "code",
   "execution_count": 118,
   "metadata": {},
   "outputs": [
    {
     "data": {
      "image/png": "[encoded data removed]",
      "text/plain": [
       "<Figure size 640x480 with 1 Axes>"
      ]
     },
     "metadata": {},
     "output_type": "display_data"
    }
   ],
   "source": [
    "data_joueurs_budget=pd.merge(left=data_joueurs,right=data_equipes,how='inner',left_on=['Club_id'],right_on=['ID'])\n",
    "data_joueurs_budget=data_joueurs_budget[data_joueurs_budget['TransferBudget']>=50000000]\n",
    "salaires=data_joueurs_budget['WageEUR']\n",
    "\n",
    "plt.hist(salaires,bins=range(salaires.min(),salaires.max(),5000),color = 'red',edgecolor='white')\n",
    "plt.xlabel('Salaires')\n",
    "plt.ylabel('Nombre de joueurs')\n",
    "plt.show()"
   ]
  }
 ],
 "metadata": {
  "kernelspec": {
   "display_name": "Python 3",
   "language": "python",
   "name": "python3"
  },
  "language_info": {
   "codemirror_mode": {
    "name": "ipython",
    "version": 3
   },
   "file_extension": ".py",
   "mimetype": "text/x-python",
   "name": "python",
   "nbconvert_exporter": "python",
   "pygments_lexer": "ipython3",
   "version": "3.7.4"
  },
  "orig_nbformat": 4,
  "vscode": {
   "interpreter": {
    "hash": "f81cdf8980b2d349ce6926314a667601d5ecc3ab2c2efdd8489a092e7f4c9494"
   }
  }
 },
 "nbformat": 4,
 "nbformat_minor": 2
}
